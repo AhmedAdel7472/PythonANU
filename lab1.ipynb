{
 "cells": [
  {
   "cell_type": "markdown",
   "metadata": {},
   "source": [
    "## Python Lab 1"
   ]
  },
  {
   "cell_type": "markdown",
   "metadata": {},
   "source": [
    "### Question1"
   ]
  },
  {
   "cell_type": "code",
   "execution_count": 1,
   "metadata": {},
   "outputs": [
    {
     "name": "stdout",
     "output_type": "stream",
     "text": [
      "Each Person needs to pay: 27.186\n"
     ]
    }
   ],
   "source": [
    "payment=47.28/2\n",
    "total=payment*0.15+payment\n",
    "print(\"Each Person needs to pay: \"+str(total))"
   ]
  },
  {
   "cell_type": "markdown",
   "metadata": {},
   "source": [
    "### Question 2"
   ]
  },
  {
   "cell_type": "code",
   "execution_count": 2,
   "metadata": {},
   "outputs": [
    {
     "name": "stdout",
     "output_type": "stream",
     "text": [
      "6.0\n"
     ]
    }
   ],
   "source": [
    "num1=int(input('input the first number '))\n",
    "num2=int(input('input the second number '))\n",
    "print(float(num1/num2))"
   ]
  },
  {
   "cell_type": "markdown",
   "metadata": {},
   "source": [
    "### Question 3"
   ]
  },
  {
   "cell_type": "code",
   "execution_count": 3,
   "metadata": {},
   "outputs": [
    {
     "name": "stdout",
     "output_type": "stream",
     "text": [
      "How do you like {} so far?  \n"
     ]
    }
   ],
   "source": [
    "word1='How'\n",
    "word2='do'\n",
    "word3='you'\n",
    "word4='like'\n",
    "word5='{}'\n",
    "word6='so'\n",
    "word7='far?'\n",
    "print(word1,word2,word3,word4,word5,word6,word7,\" \")"
   ]
  },
  {
   "cell_type": "markdown",
   "metadata": {},
   "source": [
    "### Question 5"
   ]
  },
  {
   "cell_type": "code",
   "execution_count": 4,
   "metadata": {},
   "outputs": [
    {
     "name": "stdout",
     "output_type": "stream",
     "text": [
      "5\n",
      "Choose between +,-,*,/\n",
      "6.0\n"
     ]
    }
   ],
   "source": [
    "num=input('write your statement ')\n",
    "length_statement=len(num)\n",
    "print(length_statement)\n"
   ]
  },
  {
   "cell_type": "markdown",
   "metadata": {},
   "source": [
    "### Question 6"
   ]
  },
  {
   "cell_type": "code",
   "execution_count": null,
   "metadata": {},
   "outputs": [],
   "source": [
    "num3=float(input('Write your first number '))\n",
    "num4=float(input('Write your second number '))\n",
    "print('Choose between +,-,*,/')\n",
    "inp=input('Write your Operator ')\n",
    "if(inp=='+'):\n",
    "    print(num3+num4)\n",
    "elif(inp=='-'):\n",
    "    print(num3-num4)\n",
    "elif(inp=='*'):\n",
    "    print(num3*num4)\n",
    "elif(inp=='/'):\n",
    "    print(num3/num4)"
   ]
  }
 ],
 "metadata": {
  "kernelspec": {
   "display_name": "Python (myenv)",
   "language": "python",
   "name": "myenv"
  },
  "language_info": {
   "codemirror_mode": {
    "name": "ipython",
    "version": 3
   },
   "file_extension": ".py",
   "mimetype": "text/x-python",
   "name": "python",
   "nbconvert_exporter": "python",
   "pygments_lexer": "ipython3",
   "version": "3.12.3"
  }
 },
 "nbformat": 4,
 "nbformat_minor": 2
}
