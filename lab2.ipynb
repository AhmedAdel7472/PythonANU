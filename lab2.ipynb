{
 "cells": [
  {
   "cell_type": "markdown",
   "metadata": {},
   "source": [
    "## Python LAB 2"
   ]
  },
  {
   "cell_type": "markdown",
   "metadata": {},
   "source": [
    "### Question 1"
   ]
  },
  {
   "cell_type": "code",
   "execution_count": 1,
   "metadata": {},
   "outputs": [
    {
     "name": "stdout",
     "output_type": "stream",
     "text": [
      "[2, 5, 15]\n"
     ]
    }
   ],
   "source": [
    "variable=input(\"Enter the String \")\n",
    "indices = list()\n",
    "for i in range(0, len(variable)):\n",
    "    if variable[i]=='i':\n",
    "        indices.append(i)\n",
    "    i+=1\n",
    "print(indices)"
   ]
  },
  {
   "cell_type": "markdown",
   "metadata": {},
   "source": [
    "### Question 2"
   ]
  },
  {
   "cell_type": "code",
   "execution_count": 8,
   "metadata": {},
   "outputs": [
    {
     "name": "stdout",
     "output_type": "stream",
     "text": [
      "[[1], [2, 4], [3, 6, 9]]\n"
     ]
    }
   ],
   "source": [
    "myinput=int(input(\"Write your input\"))\n",
    "listaya1=list()\n",
    "listaya2=list()\n",
    "for i in range(1,myinput+1):\n",
    "    for j in range(1,myinput+1):\n",
    "        listaya2.append(i*j)\n",
    "        if j==i:\n",
    "           listaya1.append(listaya2)\n",
    "           listaya2=[]\n",
    "           break\n",
    "print(listaya1)"
   ]
  },
  {
   "cell_type": "markdown",
   "metadata": {},
   "source": [
    "### Question 3"
   ]
  },
  {
   "cell_type": "code",
   "execution_count": 11,
   "metadata": {},
   "outputs": [
    {
     "name": "stdout",
     "output_type": "stream",
     "text": [
      "{'a': 'ahmed', 'f': 'fatma', 'i': 'Ibrahim'}\n"
     ]
    }
   ],
   "source": [
    "listaya=[\"ahmed\",\"fatma\",\"Ibrahim\"]\n",
    "dict={}\n",
    "for i in listaya:\n",
    "    dict[i[0].lower()]=i\n",
    "print(dict)"
   ]
  }
 ],
 "metadata": {
  "kernelspec": {
   "display_name": "Python (myenv)",
   "language": "python",
   "name": "myenv"
  },
  "language_info": {
   "codemirror_mode": {
    "name": "ipython",
    "version": 3
   },
   "file_extension": ".py",
   "mimetype": "text/x-python",
   "name": "python",
   "nbconvert_exporter": "python",
   "pygments_lexer": "ipython3",
   "version": "3.12.3"
  }
 },
 "nbformat": 4,
 "nbformat_minor": 2
}
